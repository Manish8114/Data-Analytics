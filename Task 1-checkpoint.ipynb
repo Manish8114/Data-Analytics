{
 "cells": [
  {
   "cell_type": "code",
   "execution_count": 1,
   "id": "4cae7e54-e144-4f3b-b829-6f2761a529c1",
   "metadata": {},
   "outputs": [
    {
     "name": "stdout",
     "output_type": "stream",
     "text": [
      "updated list [10, 4, 5, 6]\n"
     ]
    }
   ],
   "source": [
    "#DAta Analytics With Python\n",
    "#TAsk 1\n",
    "\n",
    "#To Create a list\n",
    "#Create a List\n",
    "my_list=[2,3,4,5]\n",
    "\n",
    "#Adding elements to list\n",
    "my_list.append(6)\n",
    "\n",
    "#Removing an element from list\n",
    "my_list.remove(3)\n",
    "\n",
    "#Modify an element from the list\n",
    "my_list[0]=10\n",
    "\n",
    "print(\"updated list\",my_list)\n",
    "\n"
   ]
  },
  {
   "cell_type": "code",
   "execution_count": 14,
   "id": "dad0e919-5560-49c1-bdd7-3b7e9af8b25b",
   "metadata": {},
   "outputs": [
    {
     "name": "stdout",
     "output_type": "stream",
     "text": [
      "updated dictionary {'name': 'John', 'city': 'Mumbai', 'gender': 'Male'}\n"
     ]
    }
   ],
   "source": [
    "#Create an Dictionary\n",
    "\n",
    "my_dict={'name':'John','age':25,'city':'Delhi'}\n",
    "\n",
    "#Add key value pair in dictionary\n",
    "my_dict['gender']='Male'\n",
    "\n",
    "#Removing key value pair from dictionary\n",
    "del my_dict['age']\n",
    "\n",
    "#Modify\n",
    "my_dict['city']='Mumbai'\n",
    "\n",
    "print(\"updated dictionary\", my_dict)"
   ]
  },
  {
   "cell_type": "code",
   "execution_count": 16,
   "id": "bab9feca-f862-44f1-8902-292dc5d1c66e",
   "metadata": {},
   "outputs": [
    {
     "name": "stdout",
     "output_type": "stream",
     "text": [
      "Updated set {2, 4, 5, 6, 10}\n"
     ]
    }
   ],
   "source": [
    "#Creating a set\n",
    "my_set={1,2,3,4,5}\n",
    "\n",
    "#adding an element to set\n",
    "my_set.add(6)\n",
    "\n",
    "#removeing an element form set\n",
    "my_set.remove(3)\n",
    "\n",
    "#modify\n",
    "my_set.discard(1)\n",
    "my_set.add(10)\n",
    "\n",
    "print(\"Updated set\", my_set)"
   ]
  },
  {
   "cell_type": "code",
   "execution_count": null,
   "id": "de1e541a-df60-4f4b-ba35-12d035511994",
   "metadata": {},
   "outputs": [],
   "source": []
  }
 ],
 "metadata": {
  "kernelspec": {
   "display_name": "Python 3 (ipykernel)",
   "language": "python",
   "name": "python3"
  },
  "language_info": {
   "codemirror_mode": {
    "name": "ipython",
    "version": 3
   },
   "file_extension": ".py",
   "mimetype": "text/x-python",
   "name": "python",
   "nbconvert_exporter": "python",
   "pygments_lexer": "ipython3",
   "version": "3.11.5"
  }
 },
 "nbformat": 4,
 "nbformat_minor": 5
}
